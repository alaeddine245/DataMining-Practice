{
  "nbformat": 4,
  "nbformat_minor": 0,
  "metadata": {
    "colab": {
      "provenance": []
    },
    "kernelspec": {
      "name": "python3",
      "display_name": "Python 3"
    },
    "language_info": {
      "name": "python"
    }
  },
  "cells": [
    {
      "cell_type": "markdown",
      "source": [
        "# Imports:"
      ],
      "metadata": {
        "id": "3gK_UjnfDoqp"
      }
    },
    {
      "cell_type": "code",
      "execution_count": null,
      "metadata": {
        "id": "eOG95B5NOZ9q"
      },
      "outputs": [],
      "source": [
        "from sklearn import datasets\n",
        "import numpy as np\n",
        "from collections import Counter\n",
        "import matplotlib\n",
        "import pylab as pl\n",
        "from itertools import cycle\n",
        "from sklearn import naive_bayes\n",
        "import random\n",
        "from sklearn.model_selection import train_test_split\n",
        "from sklearn.model_selection import cross_val_score\n",
        "from sklearn.tree import DecisionTreeClassifier"
      ]
    },
    {
      "cell_type": "markdown",
      "source": [
        "# Exploration de données:"
      ],
      "metadata": {
        "id": "F4eQStpDDykw"
      }
    },
    {
      "cell_type": "code",
      "source": [
        "# Lire le jeu de données\n",
        "irisData = datasets.load_iris()"
      ],
      "metadata": {
        "id": "Q78aQHyhOcRm"
      },
      "execution_count": null,
      "outputs": []
    },
    {
      "cell_type": "code",
      "source": [
        "# Afficher les attributs et les classes associées\n",
        "print(irisData.data)\n",
        "print(irisData.target)"
      ],
      "metadata": {
        "colab": {
          "base_uri": "https://localhost:8080/"
        },
        "id": "iJxvDoKEOnMW",
        "outputId": "d0ce980d-c5db-4814-e9b8-915e9d7d4065"
      },
      "execution_count": null,
      "outputs": [
        {
          "output_type": "stream",
          "name": "stdout",
          "text": [
            "[[5.1 3.5 1.4 0.2]\n",
            " [4.9 3.  1.4 0.2]\n",
            " [4.7 3.2 1.3 0.2]\n",
            " [4.6 3.1 1.5 0.2]\n",
            " [5.  3.6 1.4 0.2]\n",
            " [5.4 3.9 1.7 0.4]\n",
            " [4.6 3.4 1.4 0.3]\n",
            " [5.  3.4 1.5 0.2]\n",
            " [4.4 2.9 1.4 0.2]\n",
            " [4.9 3.1 1.5 0.1]\n",
            " [5.4 3.7 1.5 0.2]\n",
            " [4.8 3.4 1.6 0.2]\n",
            " [4.8 3.  1.4 0.1]\n",
            " [4.3 3.  1.1 0.1]\n",
            " [5.8 4.  1.2 0.2]\n",
            " [5.7 4.4 1.5 0.4]\n",
            " [5.4 3.9 1.3 0.4]\n",
            " [5.1 3.5 1.4 0.3]\n",
            " [5.7 3.8 1.7 0.3]\n",
            " [5.1 3.8 1.5 0.3]\n",
            " [5.4 3.4 1.7 0.2]\n",
            " [5.1 3.7 1.5 0.4]\n",
            " [4.6 3.6 1.  0.2]\n",
            " [5.1 3.3 1.7 0.5]\n",
            " [4.8 3.4 1.9 0.2]\n",
            " [5.  3.  1.6 0.2]\n",
            " [5.  3.4 1.6 0.4]\n",
            " [5.2 3.5 1.5 0.2]\n",
            " [5.2 3.4 1.4 0.2]\n",
            " [4.7 3.2 1.6 0.2]\n",
            " [4.8 3.1 1.6 0.2]\n",
            " [5.4 3.4 1.5 0.4]\n",
            " [5.2 4.1 1.5 0.1]\n",
            " [5.5 4.2 1.4 0.2]\n",
            " [4.9 3.1 1.5 0.2]\n",
            " [5.  3.2 1.2 0.2]\n",
            " [5.5 3.5 1.3 0.2]\n",
            " [4.9 3.6 1.4 0.1]\n",
            " [4.4 3.  1.3 0.2]\n",
            " [5.1 3.4 1.5 0.2]\n",
            " [5.  3.5 1.3 0.3]\n",
            " [4.5 2.3 1.3 0.3]\n",
            " [4.4 3.2 1.3 0.2]\n",
            " [5.  3.5 1.6 0.6]\n",
            " [5.1 3.8 1.9 0.4]\n",
            " [4.8 3.  1.4 0.3]\n",
            " [5.1 3.8 1.6 0.2]\n",
            " [4.6 3.2 1.4 0.2]\n",
            " [5.3 3.7 1.5 0.2]\n",
            " [5.  3.3 1.4 0.2]\n",
            " [7.  3.2 4.7 1.4]\n",
            " [6.4 3.2 4.5 1.5]\n",
            " [6.9 3.1 4.9 1.5]\n",
            " [5.5 2.3 4.  1.3]\n",
            " [6.5 2.8 4.6 1.5]\n",
            " [5.7 2.8 4.5 1.3]\n",
            " [6.3 3.3 4.7 1.6]\n",
            " [4.9 2.4 3.3 1. ]\n",
            " [6.6 2.9 4.6 1.3]\n",
            " [5.2 2.7 3.9 1.4]\n",
            " [5.  2.  3.5 1. ]\n",
            " [5.9 3.  4.2 1.5]\n",
            " [6.  2.2 4.  1. ]\n",
            " [6.1 2.9 4.7 1.4]\n",
            " [5.6 2.9 3.6 1.3]\n",
            " [6.7 3.1 4.4 1.4]\n",
            " [5.6 3.  4.5 1.5]\n",
            " [5.8 2.7 4.1 1. ]\n",
            " [6.2 2.2 4.5 1.5]\n",
            " [5.6 2.5 3.9 1.1]\n",
            " [5.9 3.2 4.8 1.8]\n",
            " [6.1 2.8 4.  1.3]\n",
            " [6.3 2.5 4.9 1.5]\n",
            " [6.1 2.8 4.7 1.2]\n",
            " [6.4 2.9 4.3 1.3]\n",
            " [6.6 3.  4.4 1.4]\n",
            " [6.8 2.8 4.8 1.4]\n",
            " [6.7 3.  5.  1.7]\n",
            " [6.  2.9 4.5 1.5]\n",
            " [5.7 2.6 3.5 1. ]\n",
            " [5.5 2.4 3.8 1.1]\n",
            " [5.5 2.4 3.7 1. ]\n",
            " [5.8 2.7 3.9 1.2]\n",
            " [6.  2.7 5.1 1.6]\n",
            " [5.4 3.  4.5 1.5]\n",
            " [6.  3.4 4.5 1.6]\n",
            " [6.7 3.1 4.7 1.5]\n",
            " [6.3 2.3 4.4 1.3]\n",
            " [5.6 3.  4.1 1.3]\n",
            " [5.5 2.5 4.  1.3]\n",
            " [5.5 2.6 4.4 1.2]\n",
            " [6.1 3.  4.6 1.4]\n",
            " [5.8 2.6 4.  1.2]\n",
            " [5.  2.3 3.3 1. ]\n",
            " [5.6 2.7 4.2 1.3]\n",
            " [5.7 3.  4.2 1.2]\n",
            " [5.7 2.9 4.2 1.3]\n",
            " [6.2 2.9 4.3 1.3]\n",
            " [5.1 2.5 3.  1.1]\n",
            " [5.7 2.8 4.1 1.3]\n",
            " [6.3 3.3 6.  2.5]\n",
            " [5.8 2.7 5.1 1.9]\n",
            " [7.1 3.  5.9 2.1]\n",
            " [6.3 2.9 5.6 1.8]\n",
            " [6.5 3.  5.8 2.2]\n",
            " [7.6 3.  6.6 2.1]\n",
            " [4.9 2.5 4.5 1.7]\n",
            " [7.3 2.9 6.3 1.8]\n",
            " [6.7 2.5 5.8 1.8]\n",
            " [7.2 3.6 6.1 2.5]\n",
            " [6.5 3.2 5.1 2. ]\n",
            " [6.4 2.7 5.3 1.9]\n",
            " [6.8 3.  5.5 2.1]\n",
            " [5.7 2.5 5.  2. ]\n",
            " [5.8 2.8 5.1 2.4]\n",
            " [6.4 3.2 5.3 2.3]\n",
            " [6.5 3.  5.5 1.8]\n",
            " [7.7 3.8 6.7 2.2]\n",
            " [7.7 2.6 6.9 2.3]\n",
            " [6.  2.2 5.  1.5]\n",
            " [6.9 3.2 5.7 2.3]\n",
            " [5.6 2.8 4.9 2. ]\n",
            " [7.7 2.8 6.7 2. ]\n",
            " [6.3 2.7 4.9 1.8]\n",
            " [6.7 3.3 5.7 2.1]\n",
            " [7.2 3.2 6.  1.8]\n",
            " [6.2 2.8 4.8 1.8]\n",
            " [6.1 3.  4.9 1.8]\n",
            " [6.4 2.8 5.6 2.1]\n",
            " [7.2 3.  5.8 1.6]\n",
            " [7.4 2.8 6.1 1.9]\n",
            " [7.9 3.8 6.4 2. ]\n",
            " [6.4 2.8 5.6 2.2]\n",
            " [6.3 2.8 5.1 1.5]\n",
            " [6.1 2.6 5.6 1.4]\n",
            " [7.7 3.  6.1 2.3]\n",
            " [6.3 3.4 5.6 2.4]\n",
            " [6.4 3.1 5.5 1.8]\n",
            " [6.  3.  4.8 1.8]\n",
            " [6.9 3.1 5.4 2.1]\n",
            " [6.7 3.1 5.6 2.4]\n",
            " [6.9 3.1 5.1 2.3]\n",
            " [5.8 2.7 5.1 1.9]\n",
            " [6.8 3.2 5.9 2.3]\n",
            " [6.7 3.3 5.7 2.5]\n",
            " [6.7 3.  5.2 2.3]\n",
            " [6.3 2.5 5.  1.9]\n",
            " [6.5 3.  5.2 2. ]\n",
            " [6.2 3.4 5.4 2.3]\n",
            " [5.9 3.  5.1 1.8]]\n",
            "[0 0 0 0 0 0 0 0 0 0 0 0 0 0 0 0 0 0 0 0 0 0 0 0 0 0 0 0 0 0 0 0 0 0 0 0 0\n",
            " 0 0 0 0 0 0 0 0 0 0 0 0 0 1 1 1 1 1 1 1 1 1 1 1 1 1 1 1 1 1 1 1 1 1 1 1 1\n",
            " 1 1 1 1 1 1 1 1 1 1 1 1 1 1 1 1 1 1 1 1 1 1 1 1 1 1 2 2 2 2 2 2 2 2 2 2 2\n",
            " 2 2 2 2 2 2 2 2 2 2 2 2 2 2 2 2 2 2 2 2 2 2 2 2 2 2 2 2 2 2 2 2 2 2 2 2 2\n",
            " 2 2]\n"
          ]
        }
      ]
    },
    {
      "cell_type": "code",
      "source": [
        "# Afficher les noms des attributs \n",
        "irisData.feature_names"
      ],
      "metadata": {
        "colab": {
          "base_uri": "https://localhost:8080/"
        },
        "id": "s3oBj0usOn9K",
        "outputId": "d00f7ac6-12c3-406a-c0a5-be90427fbcdb"
      },
      "execution_count": null,
      "outputs": [
        {
          "output_type": "execute_result",
          "data": {
            "text/plain": [
              "['sepal length (cm)',\n",
              " 'sepal width (cm)',\n",
              " 'petal length (cm)',\n",
              " 'petal width (cm)']"
            ]
          },
          "metadata": {},
          "execution_count": 4
        }
      ]
    },
    {
      "cell_type": "code",
      "source": [
        "# Afficher les noms des classes\n",
        "irisData.target_names"
      ],
      "metadata": {
        "colab": {
          "base_uri": "https://localhost:8080/"
        },
        "id": "7w4qkVdpPLf0",
        "outputId": "d78c4cef-ab56-4d44-8026-e346fea80d3c"
      },
      "execution_count": null,
      "outputs": [
        {
          "output_type": "execute_result",
          "data": {
            "text/plain": [
              "array(['setosa', 'versicolor', 'virginica'], dtype='<U10')"
            ]
          },
          "metadata": {},
          "execution_count": 5
        }
      ]
    },
    {
      "cell_type": "code",
      "source": [
        " # Afficher le nombre de données dans chaque classe de deux façons"
      ],
      "metadata": {
        "id": "n5ngDBrhsieq"
      },
      "execution_count": null,
      "outputs": []
    },
    {
      "cell_type": "code",
      "source": [
        "# 1ère méthode\n",
        "Counter(irisData.target)"
      ],
      "metadata": {
        "colab": {
          "base_uri": "https://localhost:8080/"
        },
        "id": "YAXg1L_3P59x",
        "outputId": "12859c4c-7d88-4c46-a1dd-46fdf24dd262"
      },
      "execution_count": null,
      "outputs": [
        {
          "output_type": "execute_result",
          "data": {
            "text/plain": [
              "Counter({0: 50, 1: 50, 2: 50})"
            ]
          },
          "metadata": {},
          "execution_count": 7
        }
      ]
    },
    {
      "cell_type": "code",
      "source": [
        "# 2ème méthode\n",
        "np.unique(irisData.target, return_counts=True)"
      ],
      "metadata": {
        "colab": {
          "base_uri": "https://localhost:8080/"
        },
        "id": "D_F3yCJ5QmdP",
        "outputId": "dcdeefcc-d88e-494c-d9a7-55d827ecdb51"
      },
      "execution_count": null,
      "outputs": [
        {
          "output_type": "execute_result",
          "data": {
            "text/plain": [
              "(array([0, 1, 2]), array([50, 50, 50]))"
            ]
          },
          "metadata": {},
          "execution_count": 8
        }
      ]
    },
    {
      "cell_type": "code",
      "source": [
        "# Afficher la classe et les attributs du 32ème échantillon\n",
        "print(irisData.data[31])\n",
        "print(irisData.target[31])"
      ],
      "metadata": {
        "colab": {
          "base_uri": "https://localhost:8080/"
        },
        "id": "aI5qwZWmRid0",
        "outputId": "f2da2c66-1927-4732-8a27-6bc1cd11e3d8"
      },
      "execution_count": null,
      "outputs": [
        {
          "output_type": "stream",
          "name": "stdout",
          "text": [
            "[5.4 3.4 1.5 0.4]\n",
            "0\n"
          ]
        }
      ]
    },
    {
      "cell_type": "code",
      "source": [
        "def plot_2D(data, target, target_names):\n",
        "  colors = cycle('rgbcmykw') # cycle de couleurs\n",
        "  target_ids = range(len(target_names))\n",
        "  pl.figure()\n",
        "  for i, c, label in zip(target_ids, colors, target_names):\n",
        "    pl.scatter(data[target == i, 2], data[target == i, 3], c=c, label=label)\n",
        "  # une droite qui permet de séparer une classe des deux autres\n",
        "  pl.plot([2.5, 2.5], [0,3])\n",
        "  pl.legend()\n",
        "  pl.show()\n",
        "  \n"
      ],
      "metadata": {
        "id": "wpjNAJcORxHr"
      },
      "execution_count": null,
      "outputs": []
    },
    {
      "cell_type": "code",
      "source": [
        "plot_2D(irisData.data, irisData.target, irisData.target_names)"
      ],
      "metadata": {
        "colab": {
          "base_uri": "https://localhost:8080/",
          "height": 265
        },
        "id": "e0zO84MdSd8N",
        "outputId": "7d2d2ef8-4361-48aa-d737-9f18a887ba4c"
      },
      "execution_count": null,
      "outputs": [
        {
          "output_type": "display_data",
          "data": {
            "text/plain": [
              "<Figure size 432x288 with 1 Axes>"
            ],
            "image/png": "[encoded data removed]"
          },
          "metadata": {
            "needs_background": "light"
          }
        }
      ]
    },
    {
      "cell_type": "markdown",
      "source": [
        "# Modélisation:"
      ],
      "metadata": {
        "id": "Y-qkT_V4EA62"
      }
    },
    {
      "cell_type": "markdown",
      "source": [],
      "metadata": {
        "id": "RGWicAkhEA1f"
      }
    },
    {
      "cell_type": "code",
      "source": [
        "from sklearn import naive_bayes\n",
        "nb = naive_bayes.MultinomialNB(fit_prior = True)\n",
        "nb.fit(irisData.data[:], irisData.target[:])\n",
        "p31 = nb.predict([irisData.data[31]])\n",
        "plast = nb.predict([irisData.data[-1]])"
      ],
      "metadata": {
        "id": "zwuFtyyfV6Ut"
      },
      "execution_count": null,
      "outputs": []
    },
    {
      "cell_type": "code",
      "source": [
        "print(p31)\n",
        "print(plast)"
      ],
      "metadata": {
        "colab": {
          "base_uri": "https://localhost:8080/"
        },
        "id": "2GvgrdZzWTz3",
        "outputId": "3b1759cb-9d77-46b5-fad5-4a1e4f0470e5"
      },
      "execution_count": null,
      "outputs": [
        {
          "output_type": "stream",
          "name": "stdout",
          "text": [
            "[0]\n",
            "[2]\n"
          ]
        }
      ]
    },
    {
      "cell_type": "code",
      "source": [
        "# Le modèle ne connait pas la classe 2 donc il ne va pas pouvoir la prédire\n",
        "# Pour équilibrer l'ensemble de train et test on peut utiliser train_test_split avec l'argument stratify\n",
        "nb = naive_bayes.MultinomialNB(fit_prior=True)\n",
        "nb.fit(irisData.data[:99], irisData.target[:99])\n",
        "nb.predict(irisData.data[100:149])"
      ],
      "metadata": {
        "colab": {
          "base_uri": "https://localhost:8080/"
        },
        "id": "s3mHk9BkXCnG",
        "outputId": "2ca91ace-ba3a-405a-b19f-92a19ff8cc37"
      },
      "execution_count": null,
      "outputs": [
        {
          "output_type": "execute_result",
          "data": {
            "text/plain": [
              "array([1, 1, 1, 1, 1, 1, 1, 1, 1, 1, 1, 1, 1, 1, 1, 1, 1, 1, 1, 1, 1, 1,\n",
              "       1, 1, 1, 1, 1, 1, 1, 1, 1, 1, 1, 1, 1, 1, 1, 1, 1, 1, 1, 1, 1, 1,\n",
              "       1, 1, 1, 1, 1])"
            ]
          },
          "metadata": {},
          "execution_count": 19
        }
      ]
    },
    {
      "cell_type": "markdown",
      "source": [
        "# Evaluation: "
      ],
      "metadata": {
        "id": "sTnq9wWoEPO3"
      }
    },
    {
      "cell_type": "markdown",
      "source": [
        "## Erreur du classifieur sur la totalité des données"
      ],
      "metadata": {
        "id": "gqVyazgPEWgR"
      }
    },
    {
      "cell_type": "code",
      "source": [
        "# 3 façons pour calculer l'erreur du classifier"
      ],
      "metadata": {
        "id": "iJZRyx-UvG8k"
      },
      "execution_count": null,
      "outputs": []
    },
    {
      "cell_type": "code",
      "source": [
        "ea = 0\n",
        "Y=irisData.target\n",
        "P=nb.predict(irisData.data[:])\n",
        "for i in range(len(irisData.data)):\n",
        "  if (P[i] != Y[i]):\n",
        "    print(i,irisData.data[i], Y[i], P[i])\n",
        "    ea = ea+1\n",
        "print(ea/len(irisData.data))"
      ],
      "metadata": {
        "colab": {
          "base_uri": "https://localhost:8080/"
        },
        "id": "UlZuTTMtYXoO",
        "outputId": "acb21377-7515-4071-8116-55647737681c"
      },
      "execution_count": null,
      "outputs": [
        {
          "output_type": "stream",
          "name": "stdout",
          "text": [
            "68 [6.2 2.2 4.5 1.5] 1 2\n",
            "70 [5.9 3.2 4.8 1.8] 1 2\n",
            "72 [6.3 2.5 4.9 1.5] 1 2\n",
            "83 [6.  2.7 5.1 1.6] 1 2\n",
            "129 [7.2 3.  5.8 1.6] 2 1\n",
            "131 [7.9 3.8 6.4 2. ] 2 1\n",
            "133 [6.3 2.8 5.1 1.5] 2 1\n",
            "0.04666666666666667\n"
          ]
        }
      ]
    },
    {
      "cell_type": "code",
      "source": [
        "np.count_nonzero(P-Y)/len(irisData.data)"
      ],
      "metadata": {
        "colab": {
          "base_uri": "https://localhost:8080/"
        },
        "id": "S9OAVbDxZl93",
        "outputId": "f29fb641-edf0-4491-9c4e-706e602b52c6"
      },
      "execution_count": null,
      "outputs": [
        {
          "output_type": "execute_result",
          "data": {
            "text/plain": [
              "0.04666666666666667"
            ]
          },
          "metadata": {},
          "execution_count": 25
        }
      ]
    },
    {
      "cell_type": "code",
      "source": [
        "1-nb.score(irisData.data, irisData.target)"
      ],
      "metadata": {
        "colab": {
          "base_uri": "https://localhost:8080/"
        },
        "id": "0OsJewO0ZFz9",
        "outputId": "aa69343f-3953-489a-db43-704fbfca15f7"
      },
      "execution_count": null,
      "outputs": [
        {
          "output_type": "execute_result",
          "data": {
            "text/plain": [
              "0.046666666666666634"
            ]
          },
          "metadata": {},
          "execution_count": 53
        }
      ]
    },
    {
      "cell_type": "markdown",
      "source": [
        "## Division train/test:"
      ],
      "metadata": {
        "id": "cLQiokOXE7KF"
      }
    },
    {
      "cell_type": "code",
      "source": [
        "import random\n",
        "def split(X,y, ratio):\n",
        "  total_indices = range(len(X))\n",
        "  indices = random.sample(total_indices, int(ratio*len(X)) + 1)\n",
        "  rest_indices = np.setdiff1d(total_indices, indices)\n",
        "  X_train = X[indices]\n",
        "  X_test = X[rest_indices]\n",
        "  y_train = y[indices]\n",
        "  y_test = y[rest_indices]\n",
        "  return X_train, y_train, X_test, y_test\n"
      ],
      "metadata": {
        "id": "B5WJzLB2ZKW0"
      },
      "execution_count": null,
      "outputs": []
    },
    {
      "cell_type": "code",
      "source": [
        "X_train, y_train, X_test, y_test = split(irisData.data, irisData.target, ratio = 0.66)"
      ],
      "metadata": {
        "id": "b1IOnioY0Nw_"
      },
      "execution_count": null,
      "outputs": []
    },
    {
      "cell_type": "code",
      "source": [
        "def test(X,y, clf):\n",
        "  X_train, y_train, X_test, y_test = split(irisData.data, irisData.target, ratio = 0.66)\n",
        "  clf.fit(X_train, y_train)\n",
        "  y_pred = clf.predict(X_test)\n",
        "  return np.count_nonzero(y_test-y_pred)/len(X_test)"
      ],
      "metadata": {
        "id": "wK1wCJskebja"
      },
      "execution_count": null,
      "outputs": []
    },
    {
      "cell_type": "code",
      "source": [
        "# L'erreur est plus grande que celle trouvée precidemment et change chaque fois qu'on repète l'experience\n",
        "nb = naive_bayes.MultinomialNB(fit_prior=True)\n",
        "test(irisData.data, irisData.target, nb)"
      ],
      "metadata": {
        "id": "etbBbGmI4rUX"
      },
      "execution_count": null,
      "outputs": []
    },
    {
      "cell_type": "code",
      "source": [
        "# On remarque que l'erreur moyenne est d'autant plus stable lorsque la valeur de t augmente\n",
        "for t in [10, 50, 100, 200, 500,1000]:\n",
        "  print(\" t = \", t)\n",
        "  for j in range(20):\n",
        "    sum_errors = 0\n",
        "    for i in range(t):\n",
        "      nb = naive_bayes.MultinomialNB(fit_prior=True)\n",
        "      sum_errors+=test(irisData.data, irisData.target, nb)\n",
        "    print(sum_errors/t)"
      ],
      "metadata": {
        "colab": {
          "base_uri": "https://localhost:8080/"
        },
        "id": "dD3WQKG71ilY",
        "outputId": "79a8d7d5-97ed-4edd-edf2-248f01ae9478"
      },
      "execution_count": null,
      "outputs": [
        {
          "output_type": "stream",
          "name": "stdout",
          "text": [
            " t =  10\n",
            "0.166\n",
            "0.246\n",
            "0.152\n",
            "0.19000000000000003\n",
            "0.248\n",
            "0.14800000000000002\n",
            "0.18400000000000002\n",
            "0.20400000000000001\n",
            "0.122\n",
            "0.21600000000000003\n",
            "0.30000000000000004\n",
            "0.24800000000000005\n",
            "0.252\n",
            "0.14800000000000002\n",
            "0.17\n",
            "0.16\n",
            "0.172\n",
            "0.178\n",
            "0.142\n",
            "0.21400000000000002\n",
            " t =  50\n",
            "0.1968\n",
            "0.2152\n",
            "0.23199999999999993\n",
            "0.1972\n",
            "0.20159999999999997\n",
            "0.20239999999999994\n",
            "0.22559999999999988\n",
            "0.18600000000000003\n",
            "0.17519999999999986\n",
            "0.18199999999999997\n",
            "0.21119999999999997\n",
            "0.18159999999999996\n",
            "0.18919999999999995\n",
            "0.21600000000000003\n",
            "0.19440000000000002\n",
            "0.222\n",
            "0.19679999999999997\n",
            "0.18040000000000003\n",
            "0.21199999999999997\n",
            "0.17679999999999996\n",
            " t =  100\n",
            "0.1935999999999999\n",
            "0.22619999999999993\n",
            "0.21719999999999984\n",
            "0.2187999999999999\n",
            "0.1749999999999999\n",
            "0.19019999999999992\n",
            "0.19379999999999992\n",
            "0.1856\n",
            "0.18280000000000002\n",
            "0.2163999999999999\n",
            "0.19799999999999993\n",
            "0.19179999999999997\n",
            "0.20039999999999997\n",
            "0.2119999999999999\n",
            "0.20619999999999994\n",
            "0.19319999999999993\n",
            "0.17800000000000005\n",
            "0.21439999999999998\n",
            "0.2181999999999999\n",
            "0.22719999999999985\n",
            " t =  200\n",
            "0.20760000000000012\n",
            "0.18499999999999975\n",
            "0.19490000000000002\n",
            "0.2064999999999999\n",
            "0.19520000000000004\n",
            "0.18729999999999994\n",
            "0.2058999999999999\n",
            "0.20409999999999998\n",
            "0.2034999999999998\n",
            "0.1968000000000001\n",
            "0.20549999999999996\n",
            "0.19999999999999996\n",
            "0.21089999999999992\n",
            "0.20650000000000004\n",
            "0.2035999999999999\n",
            "0.2096\n",
            "0.2045\n",
            "0.18259999999999987\n",
            "0.19669999999999996\n",
            "0.19510000000000002\n",
            " t =  500\n",
            "0.19119999999999995\n",
            "0.20232000000000006\n",
            "0.19416\n",
            "0.2116800000000002\n",
            "0.2080800000000001\n",
            "0.21192000000000036\n",
            "0.20532000000000017\n",
            "0.2023600000000004\n",
            "0.20780000000000035\n",
            "0.20012000000000024\n",
            "0.18768000000000032\n",
            "0.2068400000000002\n",
            "0.19596000000000025\n",
            "0.20152000000000017\n",
            "0.18600000000000017\n",
            "0.18672000000000027\n",
            "0.20763999999999996\n",
            "0.20296000000000017\n",
            "0.22056000000000014\n",
            "0.20640000000000008\n",
            " t =  1000\n",
            "0.1974600000000002\n",
            "0.2025400000000005\n",
            "0.20556000000000024\n",
            "0.20392000000000013\n",
            "0.20320000000000055\n",
            "0.2090800000000004\n",
            "0.1972800000000003\n",
            "0.1945600000000001\n",
            "0.20262000000000044\n",
            "0.20192000000000032\n",
            "0.19516000000000022\n",
            "0.20088000000000047\n",
            "0.20493999999999996\n",
            "0.20032000000000028\n",
            "0.20608000000000026\n",
            "0.20168000000000028\n",
            "0.20562\n",
            "0.19910000000000017\n",
            "0.19812000000000046\n",
            "0.1972399999999999\n"
          ]
        }
      ]
    },
    {
      "cell_type": "code",
      "source": [
        "# In the case of a test set composed of one training example we get either 0 or 1 as error, in this case we got 0\n",
        "# It is of course different than the one obtained earlier\n",
        "nb = naive_bayes.MultinomialNB(fit_prior=True)\n",
        "X_test = irisData.data[10]\n",
        "y_test = irisData.target[10]\n",
        "X_train = np.delete(irisData.data, 10 , axis = 0)\n",
        "y_train = np.delete(irisData.target, 10, axis = 0)\n",
        "\n",
        "nb.fit(X_train, y_train)\n",
        "y_pred = nb.predict(X_test.reshape(1, -1))\n",
        "print(abs(y_pred - y_test))"
      ],
      "metadata": {
        "colab": {
          "base_uri": "https://localhost:8080/"
        },
        "id": "L-hyAZ_c5jiI",
        "outputId": "7443cf29-e802-439f-d04a-c61945c50291"
      },
      "execution_count": null,
      "outputs": [
        {
          "output_type": "stream",
          "name": "stdout",
          "text": [
            "[0]\n"
          ]
        }
      ]
    },
    {
      "cell_type": "code",
      "source": [
        "# Utilisation de train_test_split de sklearn\n",
        "errors_train_test_split = []\n",
        "for test_size in [0.25,0.33,0.4]:\n",
        "  X_train, X_test, y_train, y_test = train_test_split(irisData.data[:], irisData.target[:], test_size = test_size, stratify=irisData.target)\n",
        "  nb.fit(X_train, y_train)\n",
        "  y_pred = nb.predict(X_test)\n",
        "  errors_train_test_split.append(np.count_nonzero(y_test-y_pred)/len(X_test))\n",
        "print(errors_train_test_split)"
      ],
      "metadata": {
        "id": "Zn3F5jCtfp0J",
        "colab": {
          "base_uri": "https://localhost:8080/"
        },
        "outputId": "72cb009d-72bf-42eb-b370-c7d5384e0753"
      },
      "execution_count": null,
      "outputs": [
        {
          "output_type": "stream",
          "name": "stdout",
          "text": [
            "[0.05263157894736842, 0.06, 0.016666666666666666]\n"
          ]
        }
      ]
    },
    {
      "cell_type": "markdown",
      "source": [
        "## Cross-validation avec cross_val_score:"
      ],
      "metadata": {
        "id": "xQrwmBYjFS9A"
      }
    },
    {
      "cell_type": "code",
      "source": [
        "for nfold in [3,5,8,10]:\n",
        "  print(\"N° of folds : \", nfold, '\\n', 1-cross_val_score(nb, irisData.data, irisData.target, cv = nfold))"
      ],
      "metadata": {
        "colab": {
          "base_uri": "https://localhost:8080/"
        },
        "id": "uGp4wDbY-yR8",
        "outputId": "04e1a378-6afc-4e3d-b1fe-04d5801b59ff"
      },
      "execution_count": null,
      "outputs": [
        {
          "output_type": "stream",
          "name": "stdout",
          "text": [
            "N° of folds :  3 \n",
            " [0.04 0.08 0.04]\n",
            "N° of folds :  5 \n",
            " [0.         0.03333333 0.1        0.1        0.        ]\n",
            "N° of folds :  8 \n",
            " [0.         0.         0.05263158 0.10526316 0.10526316 0.15789474\n",
            " 0.         0.        ]\n",
            "N° of folds :  10 \n",
            " [0.         0.         0.         0.06666667 0.13333333 0.06666667\n",
            " 0.2        0.         0.         0.        ]\n"
          ]
        }
      ]
    },
    {
      "cell_type": "code",
      "source": [
        "import pandas as pd"
      ],
      "metadata": {
        "id": "-iD64TKf_QZd"
      },
      "execution_count": null,
      "outputs": []
    },
    {
      "cell_type": "code",
      "source": [
        "errors_df = pd.DataFrame()"
      ],
      "metadata": {
        "id": "F1VWpk-NHmYn"
      },
      "execution_count": null,
      "outputs": []
    },
    {
      "cell_type": "code",
      "source": [
        "errors_df['errors_train_test_split (0.25, 0.33 ,0.4):'] = errors_train_test_split"
      ],
      "metadata": {
        "id": "c0N9heTkHqdG"
      },
      "execution_count": null,
      "outputs": []
    },
    {
      "cell_type": "code",
      "source": [
        "errors_df['CV nfolds=5'] = 1-cross_val_score(nb, irisData.data, irisData.target, cv = 3)"
      ],
      "metadata": {
        "id": "wydGCbS_OJBg"
      },
      "execution_count": null,
      "outputs": []
    },
    {
      "cell_type": "code",
      "source": [
        "errors_df"
      ],
      "metadata": {
        "colab": {
          "base_uri": "https://localhost:8080/",
          "height": 143
        },
        "id": "U_PO_vRROekj",
        "outputId": "57d0cef3-d1de-42b6-a3f8-784fcd7d3b0f"
      },
      "execution_count": null,
      "outputs": [
        {
          "output_type": "execute_result",
          "data": {
            "text/plain": [
              "   errors_train_test_split (0.25, 0.33 ,0.4):  CV nfolds=5\n",
              "0                                    0.052632         0.04\n",
              "1                                    0.060000         0.08\n",
              "2                                    0.016667         0.04"
            ],
            "text/html": [
              "\n",
              "  <div id=\"df-09c5f2cf-b109-466c-812a-fcdbd1332c21\">\n",
              "    <div class=\"colab-df-container\">\n",
              "      <div>\n",
              "<style scoped>\n",
              "    .dataframe tbody tr th:only-of-type {\n",
              "        vertical-align: middle;\n",
              "    }\n",
              "\n",
              "    .dataframe tbody tr th {\n",
              "        vertical-align: top;\n",
              "    }\n",
              "\n",
              "    .dataframe thead th {\n",
              "        text-align: right;\n",
              "    }\n",
              "</style>\n",
              "<table border=\"1\" class=\"dataframe\">\n",
              "  <thead>\n",
              "    <tr style=\"text-align: right;\">\n",
              "      <th></th>\n",
              "      <th>errors_train_test_split (0.25, 0.33 ,0.4):</th>\n",
              "      <th>CV nfolds=5</th>\n",
              "    </tr>\n",
              "  </thead>\n",
              "  <tbody>\n",
              "    <tr>\n",
              "      <th>0</th>\n",
              "      <td>0.052632</td>\n",
              "      <td>0.04</td>\n",
              "    </tr>\n",
              "    <tr>\n",
              "      <th>1</th>\n",
              "      <td>0.060000</td>\n",
              "      <td>0.08</td>\n",
              "    </tr>\n",
              "    <tr>\n",
              "      <th>2</th>\n",
              "      <td>0.016667</td>\n",
              "      <td>0.04</td>\n",
              "    </tr>\n",
              "  </tbody>\n",
              "</table>\n",
              "</div>\n",
              "      <button class=\"colab-df-convert\" onclick=\"convertToInteractive('df-09c5f2cf-b109-466c-812a-fcdbd1332c21')\"\n",
              "              title=\"Convert this dataframe to an interactive table.\"\n",
              "              style=\"display:none;\">\n",
              "        \n",
              "  <svg xmlns=\"http://www.w3.org/2000/svg\" height=\"24px\"viewBox=\"0 0 24 24\"\n",
              "       width=\"24px\">\n",
              "    <path d=\"M0 0h24v24H0V0z\" fill=\"none\"/>\n",
              "    <path d=\"M18.56 5.44l.94 2.06.94-2.06 2.06-.94-2.06-.94-.94-2.06-.94 2.06-2.06.94zm-11 1L8.5 8.5l.94-2.06 2.06-.94-2.06-.94L8.5 2.5l-.94 2.06-2.06.94zm10 10l.94 2.06.94-2.06 2.06-.94-2.06-.94-.94-2.06-.94 2.06-2.06.94z\"/><path d=\"M17.41 7.96l-1.37-1.37c-.4-.4-.92-.59-1.43-.59-.52 0-1.04.2-1.43.59L10.3 9.45l-7.72 7.72c-.78.78-.78 2.05 0 2.83L4 21.41c.39.39.9.59 1.41.59.51 0 1.02-.2 1.41-.59l7.78-7.78 2.81-2.81c.8-.78.8-2.07 0-2.86zM5.41 20L4 18.59l7.72-7.72 1.47 1.35L5.41 20z\"/>\n",
              "  </svg>\n",
              "      </button>\n",
              "      \n",
              "  <style>\n",
              "    .colab-df-container {\n",
              "      display:flex;\n",
              "      flex-wrap:wrap;\n",
              "      gap: 12px;\n",
              "    }\n",
              "\n",
              "    .colab-df-convert {\n",
              "      background-color: #E8F0FE;\n",
              "      border: none;\n",
              "      border-radius: 50%;\n",
              "      cursor: pointer;\n",
              "      display: none;\n",
              "      fill: #1967D2;\n",
              "      height: 32px;\n",
              "      padding: 0 0 0 0;\n",
              "      width: 32px;\n",
              "    }\n",
              "\n",
              "    .colab-df-convert:hover {\n",
              "      background-color: #E2EBFA;\n",
              "      box-shadow: 0px 1px 2px rgba(60, 64, 67, 0.3), 0px 1px 3px 1px rgba(60, 64, 67, 0.15);\n",
              "      fill: #174EA6;\n",
              "    }\n",
              "\n",
              "    [theme=dark] .colab-df-convert {\n",
              "      background-color: #3B4455;\n",
              "      fill: #D2E3FC;\n",
              "    }\n",
              "\n",
              "    [theme=dark] .colab-df-convert:hover {\n",
              "      background-color: #434B5C;\n",
              "      box-shadow: 0px 1px 3px 1px rgba(0, 0, 0, 0.15);\n",
              "      filter: drop-shadow(0px 1px 2px rgba(0, 0, 0, 0.3));\n",
              "      fill: #FFFFFF;\n",
              "    }\n",
              "  </style>\n",
              "\n",
              "      <script>\n",
              "        const buttonEl =\n",
              "          document.querySelector('#df-09c5f2cf-b109-466c-812a-fcdbd1332c21 button.colab-df-convert');\n",
              "        buttonEl.style.display =\n",
              "          google.colab.kernel.accessAllowed ? 'block' : 'none';\n",
              "\n",
              "        async function convertToInteractive(key) {\n",
              "          const element = document.querySelector('#df-09c5f2cf-b109-466c-812a-fcdbd1332c21');\n",
              "          const dataTable =\n",
              "            await google.colab.kernel.invokeFunction('convertToInteractive',\n",
              "                                                     [key], {});\n",
              "          if (!dataTable) return;\n",
              "\n",
              "          const docLinkHtml = 'Like what you see? Visit the ' +\n",
              "            '<a target=\"_blank\" href=https://colab.research.google.com/notebooks/data_table.ipynb>data table notebook</a>'\n",
              "            + ' to learn more about interactive tables.';\n",
              "          element.innerHTML = '';\n",
              "          dataTable['output_type'] = 'display_data';\n",
              "          await google.colab.output.renderOutput(dataTable, element);\n",
              "          const docLink = document.createElement('div');\n",
              "          docLink.innerHTML = docLinkHtml;\n",
              "          element.appendChild(docLink);\n",
              "        }\n",
              "      </script>\n",
              "    </div>\n",
              "  </div>\n",
              "  "
            ]
          },
          "metadata": {},
          "execution_count": 130
        }
      ]
    },
    {
      "cell_type": "markdown",
      "source": [
        "# Utilisation de DecisionTreeClassifier:"
      ],
      "metadata": {
        "id": "aYRbC_KPPLC6"
      }
    },
    {
      "cell_type": "code",
      "source": [
        "tree = DecisionTreeClassifier()\n",
        "errors_train_test_split = []\n",
        "for test_size in [0.25,0.33,0.4]:\n",
        "  X_train, X_test, y_train, y_test = train_test_split(irisData.data[:], irisData.target[:], test_size = test_size)\n",
        "  tree.fit(X_train, y_train)\n",
        "  y_pred = tree.predict(X_test)\n",
        "  errors_train_test_split.append(np.count_nonzero(y_test-y_pred)/len(X_test))\n",
        "print(errors_train_test_split)"
      ],
      "metadata": {
        "colab": {
          "base_uri": "https://localhost:8080/"
        },
        "id": "Xy9KYc1COjXh",
        "outputId": "895efbad-77b0-4605-ade9-70afdba1fb86"
      },
      "execution_count": null,
      "outputs": [
        {
          "output_type": "stream",
          "name": "stdout",
          "text": [
            "[0.05263157894736842, 0.04, 0.03333333333333333]\n"
          ]
        }
      ]
    },
    {
      "cell_type": "code",
      "source": [
        "for nfold in [3,5,8,10]:\n",
        "  print(\"N° of folds : \", nfold, '\\n', 1-cross_val_score(tree, irisData.data, irisData.target, cv = nfold))"
      ],
      "metadata": {
        "colab": {
          "base_uri": "https://localhost:8080/"
        },
        "id": "z3vVm1KyP88M",
        "outputId": "8f282321-502f-492a-8e92-c0bf0a65d4c1"
      },
      "execution_count": null,
      "outputs": [
        {
          "output_type": "stream",
          "name": "stdout",
          "text": [
            "N° of folds :  3 \n",
            " [0.02 0.08 0.04]\n",
            "N° of folds :  5 \n",
            " [0.03333333 0.03333333 0.1        0.03333333 0.        ]\n",
            "N° of folds :  8 \n",
            " [0.         0.05263158 0.         0.10526316 0.10526316 0.\n",
            " 0.05555556 0.        ]\n",
            "N° of folds :  10 \n",
            " [0.         0.06666667 0.         0.06666667 0.06666667 0.13333333\n",
            " 0.06666667 0.         0.         0.        ]\n"
          ]
        }
      ]
    },
    {
      "cell_type": "code",
      "source": [
        "errors_df = pd.DataFrame()\n",
        "errors_df['errors_train_test_split (0.25, 0.33 ,0.4):'] = errors_train_test_split\n",
        "errors_df['CV nfolds=3'] = 1-cross_val_score(tree, irisData.data, irisData.target, cv = 3)"
      ],
      "metadata": {
        "id": "Oy7gatdVQEHu"
      },
      "execution_count": null,
      "outputs": []
    },
    {
      "cell_type": "code",
      "source": [
        "errors_df"
      ],
      "metadata": {
        "colab": {
          "base_uri": "https://localhost:8080/",
          "height": 143
        },
        "id": "G3wQd-QUQPOD",
        "outputId": "d794737f-13c6-4728-ba85-439f8ea1c0ef"
      },
      "execution_count": null,
      "outputs": [
        {
          "output_type": "execute_result",
          "data": {
            "text/plain": [
              "   errors_train_test_split (0.25, 0.33 ,0.4):  CV nfolds=3\n",
              "0                                    0.052632         0.02\n",
              "1                                    0.040000         0.08\n",
              "2                                    0.033333         0.02"
            ],
            "text/html": [
              "\n",
              "  <div id=\"df-0447ddf9-33a2-4ff8-b104-2c32754b02a0\">\n",
              "    <div class=\"colab-df-container\">\n",
              "      <div>\n",
              "<style scoped>\n",
              "    .dataframe tbody tr th:only-of-type {\n",
              "        vertical-align: middle;\n",
              "    }\n",
              "\n",
              "    .dataframe tbody tr th {\n",
              "        vertical-align: top;\n",
              "    }\n",
              "\n",
              "    .dataframe thead th {\n",
              "        text-align: right;\n",
              "    }\n",
              "</style>\n",
              "<table border=\"1\" class=\"dataframe\">\n",
              "  <thead>\n",
              "    <tr style=\"text-align: right;\">\n",
              "      <th></th>\n",
              "      <th>errors_train_test_split (0.25, 0.33 ,0.4):</th>\n",
              "      <th>CV nfolds=3</th>\n",
              "    </tr>\n",
              "  </thead>\n",
              "  <tbody>\n",
              "    <tr>\n",
              "      <th>0</th>\n",
              "      <td>0.052632</td>\n",
              "      <td>0.02</td>\n",
              "    </tr>\n",
              "    <tr>\n",
              "      <th>1</th>\n",
              "      <td>0.040000</td>\n",
              "      <td>0.08</td>\n",
              "    </tr>\n",
              "    <tr>\n",
              "      <th>2</th>\n",
              "      <td>0.033333</td>\n",
              "      <td>0.02</td>\n",
              "    </tr>\n",
              "  </tbody>\n",
              "</table>\n",
              "</div>\n",
              "      <button class=\"colab-df-convert\" onclick=\"convertToInteractive('df-0447ddf9-33a2-4ff8-b104-2c32754b02a0')\"\n",
              "              title=\"Convert this dataframe to an interactive table.\"\n",
              "              style=\"display:none;\">\n",
              "        \n",
              "  <svg xmlns=\"http://www.w3.org/2000/svg\" height=\"24px\"viewBox=\"0 0 24 24\"\n",
              "       width=\"24px\">\n",
              "    <path d=\"M0 0h24v24H0V0z\" fill=\"none\"/>\n",
              "    <path d=\"M18.56 5.44l.94 2.06.94-2.06 2.06-.94-2.06-.94-.94-2.06-.94 2.06-2.06.94zm-11 1L8.5 8.5l.94-2.06 2.06-.94-2.06-.94L8.5 2.5l-.94 2.06-2.06.94zm10 10l.94 2.06.94-2.06 2.06-.94-2.06-.94-.94-2.06-.94 2.06-2.06.94z\"/><path d=\"M17.41 7.96l-1.37-1.37c-.4-.4-.92-.59-1.43-.59-.52 0-1.04.2-1.43.59L10.3 9.45l-7.72 7.72c-.78.78-.78 2.05 0 2.83L4 21.41c.39.39.9.59 1.41.59.51 0 1.02-.2 1.41-.59l7.78-7.78 2.81-2.81c.8-.78.8-2.07 0-2.86zM5.41 20L4 18.59l7.72-7.72 1.47 1.35L5.41 20z\"/>\n",
              "  </svg>\n",
              "      </button>\n",
              "      \n",
              "  <style>\n",
              "    .colab-df-container {\n",
              "      display:flex;\n",
              "      flex-wrap:wrap;\n",
              "      gap: 12px;\n",
              "    }\n",
              "\n",
              "    .colab-df-convert {\n",
              "      background-color: #E8F0FE;\n",
              "      border: none;\n",
              "      border-radius: 50%;\n",
              "      cursor: pointer;\n",
              "      display: none;\n",
              "      fill: #1967D2;\n",
              "      height: 32px;\n",
              "      padding: 0 0 0 0;\n",
              "      width: 32px;\n",
              "    }\n",
              "\n",
              "    .colab-df-convert:hover {\n",
              "      background-color: #E2EBFA;\n",
              "      box-shadow: 0px 1px 2px rgba(60, 64, 67, 0.3), 0px 1px 3px 1px rgba(60, 64, 67, 0.15);\n",
              "      fill: #174EA6;\n",
              "    }\n",
              "\n",
              "    [theme=dark] .colab-df-convert {\n",
              "      background-color: #3B4455;\n",
              "      fill: #D2E3FC;\n",
              "    }\n",
              "\n",
              "    [theme=dark] .colab-df-convert:hover {\n",
              "      background-color: #434B5C;\n",
              "      box-shadow: 0px 1px 3px 1px rgba(0, 0, 0, 0.15);\n",
              "      filter: drop-shadow(0px 1px 2px rgba(0, 0, 0, 0.3));\n",
              "      fill: #FFFFFF;\n",
              "    }\n",
              "  </style>\n",
              "\n",
              "      <script>\n",
              "        const buttonEl =\n",
              "          document.querySelector('#df-0447ddf9-33a2-4ff8-b104-2c32754b02a0 button.colab-df-convert');\n",
              "        buttonEl.style.display =\n",
              "          google.colab.kernel.accessAllowed ? 'block' : 'none';\n",
              "\n",
              "        async function convertToInteractive(key) {\n",
              "          const element = document.querySelector('#df-0447ddf9-33a2-4ff8-b104-2c32754b02a0');\n",
              "          const dataTable =\n",
              "            await google.colab.kernel.invokeFunction('convertToInteractive',\n",
              "                                                     [key], {});\n",
              "          if (!dataTable) return;\n",
              "\n",
              "          const docLinkHtml = 'Like what you see? Visit the ' +\n",
              "            '<a target=\"_blank\" href=https://colab.research.google.com/notebooks/data_table.ipynb>data table notebook</a>'\n",
              "            + ' to learn more about interactive tables.';\n",
              "          element.innerHTML = '';\n",
              "          dataTable['output_type'] = 'display_data';\n",
              "          await google.colab.output.renderOutput(dataTable, element);\n",
              "          const docLink = document.createElement('div');\n",
              "          docLink.innerHTML = docLinkHtml;\n",
              "          element.appendChild(docLink);\n",
              "        }\n",
              "      </script>\n",
              "    </div>\n",
              "  </div>\n",
              "  "
            ]
          },
          "metadata": {},
          "execution_count": 139
        }
      ]
    },
    {
      "cell_type": "code",
      "source": [],
      "metadata": {
        "id": "bgN1Zw0vQQD-"
      },
      "execution_count": null,
      "outputs": []
    }
  ]
}